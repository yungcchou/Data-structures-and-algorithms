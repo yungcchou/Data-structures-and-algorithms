{
 "cells": [
  {
   "cell_type": "markdown",
   "metadata": {},
   "source": [
    "# Matrix (矩陣)"
   ]
  },
  {
   "cell_type": "markdown",
   "metadata": {},
   "source": [
    "### 2 個 Matrix 的 加法 (Addition) 與 減法 (Subtraction) 運算\n",
    "運算時是以矩陣相對應位置的元素進行運算，所以這 2 個矩陣彼此的 row 與 column 必須相同。"
   ]
  },
  {
   "cell_type": "code",
   "execution_count": 2,
   "metadata": {},
   "outputs": [
    {
     "name": "stdout",
     "output_type": "stream",
     "text": [
      "matrix_A: \n",
      "[[5 0 3 3 7 9]\n",
      " [3 5 2 4 7 6]\n",
      " [8 8 1 6 7 7]\n",
      " [8 1 5 9 8 9]]\n",
      "\n",
      "matrix_B: \n",
      "[[4 3 0 3 5 0]\n",
      " [2 3 8 1 3 3]\n",
      " [3 7 0 1 9 9]\n",
      " [0 4 7 3 2 7]]\n",
      "\n",
      "matrix_A + matrix_B: \n",
      "[[ 9  3  3  6 12  9]\n",
      " [ 5  8 10  5 10  9]\n",
      " [11 15  1  7 16 16]\n",
      " [ 8  5 12 12 10 16]]\n",
      "\n",
      "matrix_A - matrix_B: \n",
      "[[ 1 -3  3  0  2  9]\n",
      " [ 1  2 -6  3  4  3]\n",
      " [ 5  1  1  5 -2 -2]\n",
      " [ 8 -3 -2  6  6  2]]\n"
     ]
    }
   ],
   "source": [
    "import numpy as np\n",
    "\n",
    "np.random.seed(0) # seed for reproducibility\n",
    "matrix_A = np.random.randint(0, 10, (4, 6)) # 4x6 matrix with random integers between 0 and 10\n",
    "matrix_B = np.random.randint(0, 10, (4, 6)) # 4x6 matrix with random integers between 0 and 10\n",
    "print( f\"matrix_A: \\n{matrix_A}\") # print matrix_A\n",
    "print( f\"\\nmatrix_B: \\n{matrix_B}\") # print matrix_B\n",
    "matrix_C = matrix_A + matrix_B # add matrix_A and matrix_B\n",
    "matrix_D = matrix_A - matrix_B # subtract matrix_A and matrix_B\n",
    "print( f\"\\nmatrix_A + matrix_B: \\n{matrix_C}\") # print the sum of matrix_A and matrix_B\n",
    "print( f\"\\nmatrix_A - matrix_B: \\n{matrix_D}\") # print the difference of matrix_A and matrix_B"
   ]
  },
  {
   "cell_type": "markdown",
   "metadata": {},
   "source": [
    "## 矩陣乘法 (Multiplication)"
   ]
  },
  {
   "cell_type": "markdown",
   "metadata": {},
   "source": [
    "### Hadamard Product\n",
    "如果第一個矩陣的列數與第二個矩陣的行數相等，則兩個矩陣可以進行相乘。\n",
    "\n",
    "$$C[i][j] = A[i][j] \\times B[i][j]$$\n",
    "\n",
    "- **條件**：兩個矩陣必須具有相同的維度。\n",
    "- **複雜度**：對於兩個 $n \\times n$ 矩陣，時間複雜度為 $O(n^2)$。"
   ]
  },
  {
   "cell_type": "code",
   "execution_count": 8,
   "metadata": {},
   "outputs": [
    {
     "name": "stdout",
     "output_type": "stream",
     "text": [
      "matrix_A: \n",
      "[[5 0 3 3 7 9]\n",
      " [3 5 2 4 7 6]\n",
      " [8 8 1 6 7 7]\n",
      " [8 1 5 9 8 9]]\n",
      "\n",
      "matrix_B: \n",
      "[[4 3 0 3 5 0]\n",
      " [2 3 8 1 3 3]\n",
      " [3 7 0 1 9 9]\n",
      " [0 4 7 3 2 7]]\n",
      "\n",
      "matrix_A * matrix_B: \n",
      "[[20  0  0  9 35  0]\n",
      " [ 6 15 16  4 21 18]\n",
      " [24 56  0  6 63 63]\n",
      " [ 0  4 35 27 16 63]]\n"
     ]
    }
   ],
   "source": [
    "import numpy as np\n",
    "\n",
    "np.random.seed(0) # seed for reproducibility\n",
    "matrix_A = np.random.randint(0, 10, (4, 6)) \n",
    "matrix_B = np.random.randint(0, 10, (4, 6)) \n",
    "matrix_AB = matrix_A * matrix_B # element-wise multiplication of matrix_A and matrix_B\n",
    "print( f\"matrix_A: \\n{matrix_A}\") # print matrix_A\n",
    "print( f\"\\nmatrix_B: \\n{matrix_B}\") # print matrix_B\n",
    "print( f\"\\nmatrix_A * matrix_B: \\n{matrix_AB}\") # print matrix_AB"
   ]
  },
  {
   "cell_type": "markdown",
   "metadata": {},
   "source": [
    "## 內積/點積 (Dot production)\n",
    "\n",
    "內積是一種專門用於向量 (Vector) 的矩陣乘法，結果是一個純量 (scalar)，而非矩陣或向量。\n",
    "\n",
    "- **操作**：給定兩個相同長度的向量 $\\mathbf{a}$ 和 $\\mathbf{b}$，點積的計算方式如下：\n",
    "\n",
    "$$\\mathbf{a} \\cdot \\mathbf{b} = \\sum_{i=1}^{n} a_i \\times b_i$$\n",
    "\n",
    "  其中 $a_i$ 和 $b_i$ 是向量 $\\mathbf{a}$ 和 $\\mathbf{b}$ 的各個分量。\n",
    "\n",
    "- **結果**：點積的結果是一個標量值。\n",
    "- **範例**：如果 $\\mathbf{a} = [1, 2, 3]$ 和 $\\mathbf{b} = [4, 5, 6]$，則點積為：\n",
    "\n",
    "$$\\mathbf{a} \\cdot \\mathbf{b} = (1 \\times 4) + (2 \\times 5) + (3 \\times 6) = 32$$\n",
    "\n",
    "- **幾何意義**：點積反映了一個向量在另一個向量方向上的延伸量，它與兩向量之間的夾角的餘弦相關：\n",
    "\n",
    "$$\\mathbf{a} \\cdot \\mathbf{b} = |\\mathbf{a}| |\\mathbf{b}| \\cos(\\theta)$$\n",
    "  其中 $\\theta$ 是向量 $\\mathbf{a}$ 和 $\\mathbf{b}$ 之間的夾角。"
   ]
  },
  {
   "cell_type": "markdown",
   "metadata": {},
   "source": [
    "##### Example\n",
    "- **Input Vectors**:\n",
    "  - $a = [1, 2, 3]$\n",
    "  - $b = [4, 5, 6]$\n",
    "- **Dot Product**:\n",
    "  $$a \\cdot b = (1 \\times 4) + (2 \\times 5) + (3 \\times 6) = 32$$"
   ]
  },
  {
   "cell_type": "code",
   "execution_count": 3,
   "metadata": {},
   "outputs": [
    {
     "name": "stdout",
     "output_type": "stream",
     "text": [
      "Dot product of vectors a and b: 32\n"
     ]
    }
   ],
   "source": [
    "import numpy as np\n",
    "\n",
    "# Define two vectors a and b\n",
    "a = np.array([1, 2, 3])\n",
    "b = np.array([4, 5, 6])\n",
    "\n",
    "# Compute the dot product\n",
    "dot_product = np.dot(a, b)\n",
    "\n",
    "# Print the result\n",
    "print( f\"Dot product of vectors a and b: {dot_product}\")"
   ]
  },
  {
   "cell_type": "markdown",
   "metadata": {},
   "source": [
    "#### Dot production for two matrices\n",
    "- **Input Matrices**:\n",
    "  - $A$ is a $4\\times3$ matrix.\n",
    "  - $B$ is a $3\\times4$ matrix.\n",
    "- **Dot Product**: The `np.dot()` function computes the matrix product (dot product) of $A$ and $B$."
   ]
  },
  {
   "cell_type": "code",
   "execution_count": 13,
   "metadata": {},
   "outputs": [
    {
     "name": "stdout",
     "output_type": "stream",
     "text": [
      "Dot product of matrices A and B:\n",
      "[[ 30  24  18  24]\n",
      " [ 84  69  54  54]\n",
      " [138 114  90  84]\n",
      " [ 30  25  20  16]]\n"
     ]
    }
   ],
   "source": [
    "import numpy as np\n",
    "\n",
    "# Define two matrices A and B\n",
    "A = np.array( [ [1, 2, 3],\n",
    "                [4, 5, 6],\n",
    "                [7, 8, 9],\n",
    "                [2, 1, 2]] )\n",
    "\n",
    "B = np.array( [ [9, 8, 7, 1],\n",
    "                [6, 5, 4, 4],\n",
    "                [3, 2, 1, 5] ] )\n",
    "\n",
    "# Compute the dot product\n",
    "dot_product = np.dot(A, B)\n",
    "\n",
    "# Print the result\n",
    "print(\"Dot product of matrices A and B:\")\n",
    "print(dot_product)"
   ]
  }
 ],
 "metadata": {
  "kernelspec": {
   "display_name": "113_Python",
   "language": "python",
   "name": "python3"
  },
  "language_info": {
   "codemirror_mode": {
    "name": "ipython",
    "version": 3
   },
   "file_extension": ".py",
   "mimetype": "text/x-python",
   "name": "python",
   "nbconvert_exporter": "python",
   "pygments_lexer": "ipython3",
   "version": "3.11.9"
  }
 },
 "nbformat": 4,
 "nbformat_minor": 2
}
