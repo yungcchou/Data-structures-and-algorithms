{
 "cells": [
  {
   "cell_type": "markdown",
   "metadata": {},
   "source": [
    "# Matrix (矩陣)"
   ]
  },
  {
   "cell_type": "markdown",
   "metadata": {},
   "source": [
    "### 2 個 Matrix 的 加法 (Addition) 與 減法 (Subtraction) 運算\n",
    "運算時是以矩陣相對應位置的元素進行運算，所以這 2 個矩陣彼此的 row 與 column 必須相同。"
   ]
  },
  {
   "cell_type": "code",
   "execution_count": 7,
   "metadata": {},
   "outputs": [
    {
     "name": "stdout",
     "output_type": "stream",
     "text": [
      "matrix_A: \n",
      "[[5 0 3 3 7 9]\n",
      " [3 5 2 4 7 6]\n",
      " [8 8 1 6 7 7]\n",
      " [8 1 5 9 8 9]]\n",
      "\n",
      "matrix_B: \n",
      "[[4 3 0 3 5 0]\n",
      " [2 3 8 1 3 3]\n",
      " [3 7 0 1 9 9]\n",
      " [0 4 7 3 2 7]]\n",
      "\n",
      "matrix_A + matrix_B: \n",
      "[[ 9  3  3  6 12  9]\n",
      " [ 5  8 10  5 10  9]\n",
      " [11 15  1  7 16 16]\n",
      " [ 8  5 12 12 10 16]]\n",
      "\n",
      "matrix_A * matrix_B: \n",
      "[[20  0  0  9 35  0]\n",
      " [ 6 15 16  4 21 18]\n",
      " [24 56  0  6 63 63]\n",
      " [ 0  4 35 27 16 63]]\n"
     ]
    }
   ],
   "source": [
    "import numpy as np\n",
    "\n",
    "np.random.seed(0) # seed for reproducibility\n",
    "matrix_A = np.random.randint(0, 10, (4, 6)) # 4x6 matrix with random integers between 0 and 10\n",
    "matrix_B = np.random.randint(0, 10, (4, 6)) # 4x6 matrix with random integers between 0 and 10\n",
    "print( f\"matrix_A: \\n{matrix_A}\") # print matrix_A\n",
    "print( f\"\\nmatrix_B: \\n{matrix_B}\") # print matrix_B\n",
    "matrix_C = matrix_A + matrix_B # add matrix_A and matrix_B\n",
    "matrix_D = matrix_A - matrix_B # subtract matrix_A and matrix_B\n",
    "print( f\"\\nmatrix_A + matrix_B: \\n{matrix_C}\") # print the sum of matrix_A and matrix_B\n",
    "print( f\"\\nmatrix_A - matrix_B: \\n{matrix_D}\") # print the difference of matrix_A and matrix_B"
   ]
  },
  {
   "cell_type": "markdown",
   "metadata": {},
   "source": [
    "## 矩陣乘法 (Multiplication)"
   ]
  },
  {
   "cell_type": "markdown",
   "metadata": {},
   "source": [
    "### Hadamard Product\n",
    "如果第一個矩陣的列數與第二個矩陣的行數相等，則兩個矩陣可以進行相乘。\n",
    "\n",
    "$$C[i][j] = A[i][j] \\times B[i][j]$$\n",
    "\n",
    "- **條件**：兩個矩陣必須具有相同的維度。\n",
    "- **複雜度**：對於兩個 $n \\times n$ 矩陣，時間複雜度為 $O(n^2)$。"
   ]
  },
  {
   "cell_type": "code",
   "execution_count": 8,
   "metadata": {},
   "outputs": [
    {
     "name": "stdout",
     "output_type": "stream",
     "text": [
      "matrix_A: \n",
      "[[5 0 3 3 7 9]\n",
      " [3 5 2 4 7 6]\n",
      " [8 8 1 6 7 7]\n",
      " [8 1 5 9 8 9]]\n",
      "\n",
      "matrix_B: \n",
      "[[4 3 0 3 5 0]\n",
      " [2 3 8 1 3 3]\n",
      " [3 7 0 1 9 9]\n",
      " [0 4 7 3 2 7]]\n",
      "\n",
      "matrix_A * matrix_B: \n",
      "[[20  0  0  9 35  0]\n",
      " [ 6 15 16  4 21 18]\n",
      " [24 56  0  6 63 63]\n",
      " [ 0  4 35 27 16 63]]\n"
     ]
    }
   ],
   "source": [
    "import numpy as np\n",
    "\n",
    "np.random.seed(0) # seed for reproducibility\n",
    "matrix_A = np.random.randint(0, 10, (4, 6)) \n",
    "matrix_B = np.random.randint(0, 10, (4, 6)) \n",
    "matrix_AB = matrix_A * matrix_B # element-wise multiplication of matrix_A and matrix_B\n",
    "print( f\"matrix_A: \\n{matrix_A}\") # print matrix_A\n",
    "print( f\"\\nmatrix_B: \\n{matrix_B}\") # print matrix_B\n",
    "print( f\"\\nmatrix_A * matrix_B: \\n{matrix_AB}\") # print matrix_AB"
   ]
  }
 ],
 "metadata": {
  "kernelspec": {
   "display_name": "113_Python",
   "language": "python",
   "name": "python3"
  },
  "language_info": {
   "codemirror_mode": {
    "name": "ipython",
    "version": 3
   },
   "file_extension": ".py",
   "mimetype": "text/x-python",
   "name": "python",
   "nbconvert_exporter": "python",
   "pygments_lexer": "ipython3",
   "version": "3.11.9"
  }
 },
 "nbformat": 4,
 "nbformat_minor": 2
}
