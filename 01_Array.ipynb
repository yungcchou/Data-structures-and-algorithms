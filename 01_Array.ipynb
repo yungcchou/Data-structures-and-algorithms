{
 "cells": [
  {
   "cell_type": "markdown",
   "metadata": {},
   "source": [
    "# Array\n",
    "\n",
    "---\n",
    "#### memo\n",
    "`export CONDA_SHLVL=0`\n",
    "\n",
    "<img src=\"numpy_dtypes.png\">"
   ]
  },
  {
   "cell_type": "code",
   "execution_count": 33,
   "metadata": {},
   "outputs": [
    {
     "name": "stdout",
     "output_type": "stream",
     "text": [
      "The given array is :\n",
      " [1 2 3 4 5]\n",
      "The size of array arr is: 5\n",
      "The memorysize of each element of arr is: 8 bytes\n",
      "The memory size of numpy array arr is: 40 bytes\n",
      "- - - - - - - - - - - - - - - - - - - - - - - - - - - - - - - - - - - - - - - - \n",
      "The given array is :\n",
      " [1 2 3 4 5]\n",
      "The size of array arr is: 5\n",
      "The memorysize of each element of arr is: 8 bytes\n",
      "The memory size of numpy array arr is: 40 bytes\n"
     ]
    }
   ],
   "source": [
    "import numpy as np\n",
    "\n",
    "arr = np.array([1, 2, 3, 4, 5], dtype=int)\n",
    "print(\"The given array is :\\n\",arr)\n",
    "print(\"The size of array arr is:\",arr.size)\n",
    "print(\"The memorysize of each element of arr is:\", arr.itemsize,\"bytes\")\n",
    "print(\"The memory size of numpy array arr is:\",arr.itemsize*arr.size,\"bytes\")\n",
    "print(\"- - \"*20)\n",
    "\n",
    "arr1 = np.array([1, 2, 3, 4, 5], dtype=\"int64\")\n",
    "print(\"The given array is :\\n\",arr1)\n",
    "print(\"The size of array arr is:\",arr1.size)\n",
    "print(\"The memorysize of each element of arr is:\", arr1.itemsize,\"bytes\")\n",
    "print(\"The memory size of numpy array arr is:\",arr1.itemsize*arr1.size,\"bytes\")"
   ]
  },
  {
   "cell_type": "markdown",
   "metadata": {},
   "source": [
    "### 2D Array"
   ]
  },
  {
   "cell_type": "code",
   "execution_count": 61,
   "metadata": {},
   "outputs": [
    {
     "name": "stdout",
     "output_type": "stream",
     "text": [
      "The given 2D array is :\n",
      " [[45 48 65]\n",
      " [68 68 10]\n",
      " [84 22 37]\n",
      " [88 71 89]]\n",
      "The size of 2D array arr2D is: 12\n",
      "The memorysize of each element of arr2D is: 8 bytes\n",
      "The memory size of numpy array arr2D is: 96 bytes\n",
      "[65 10 37 89]\n",
      "[68 68 10]\n"
     ]
    }
   ],
   "source": [
    "import numpy as np\n",
    "\n",
    "np.random.seed(0)\n",
    "arr2D = np.array( np.random.randint(1,100, size=(4,3)), dtype=int)\n",
    "print(\"The given 2D array is :\\n\",arr2D)\n",
    "print( \"The size of 2D array arr2D is:\",arr2D.size)\n",
    "print(\"The memorysize of each element of arr2D is:\", arr2D.itemsize,\"bytes\")\n",
    "print(\"The memory size of numpy array arr2D is:\",arr2D.itemsize*arr2D.size,\"bytes\")\n",
    "print( arr2D[:, 2] )\n",
    "print( arr2D[1, :] )"
   ]
  },
  {
   "cell_type": "markdown",
   "metadata": {},
   "source": [
    "### 3D Array"
   ]
  },
  {
   "cell_type": "code",
   "execution_count": 64,
   "metadata": {},
   "outputs": [
    {
     "data": {
      "text/plain": [
       "array([[[45, 48, 65, 68, 68],\n",
       "        [10, 84, 22, 37, 88],\n",
       "        [71, 89, 89, 13, 59],\n",
       "        [66, 40, 88, 47, 89]],\n",
       "\n",
       "       [[82, 38, 26, 78, 73],\n",
       "        [10, 21, 81, 70, 80],\n",
       "        [48, 65, 83, 89, 50],\n",
       "        [30, 20, 20, 15, 40]],\n",
       "\n",
       "       [[33, 66, 10, 58, 33],\n",
       "        [32, 75, 24, 36, 76],\n",
       "        [56, 29, 35,  1,  1],\n",
       "        [37, 54,  6, 39, 18]]])"
      ]
     },
     "execution_count": 64,
     "metadata": {},
     "output_type": "execute_result"
    }
   ],
   "source": [
    "import numpy as np\n",
    "\n",
    "np.random.seed(0)\n",
    "arr3D = np.array( np.random.randint(1,100, size=(3, 4, 5)), dtype=int)\n",
    "arr3D"
   ]
  },
  {
   "cell_type": "markdown",
   "metadata": {},
   "source": [
    "### 4D Array"
   ]
  },
  {
   "cell_type": "code",
   "execution_count": 65,
   "metadata": {},
   "outputs": [
    {
     "data": {
      "text/plain": [
       "array([[[[45, 48, 65, 68, 68],\n",
       "         [10, 84, 22, 37, 88],\n",
       "         [71, 89, 89, 13, 59],\n",
       "         [66, 40, 88, 47, 89]],\n",
       "\n",
       "        [[82, 38, 26, 78, 73],\n",
       "         [10, 21, 81, 70, 80],\n",
       "         [48, 65, 83, 89, 50],\n",
       "         [30, 20, 20, 15, 40]],\n",
       "\n",
       "        [[33, 66, 10, 58, 33],\n",
       "         [32, 75, 24, 36, 76],\n",
       "         [56, 29, 35,  1,  1],\n",
       "         [37, 54,  6, 39, 18]]],\n",
       "\n",
       "\n",
       "       [[[80,  5, 43, 59, 32],\n",
       "         [ 2, 66, 42, 58, 36],\n",
       "         [12, 47, 83, 92,  1],\n",
       "         [15, 54, 13, 43, 85]],\n",
       "\n",
       "        [[76, 69,  7, 69, 48],\n",
       "         [ 4, 77, 53, 79, 16],\n",
       "         [21, 59, 24, 80, 14],\n",
       "         [86, 49, 50, 70, 42]],\n",
       "\n",
       "        [[36, 65, 96, 70, 95],\n",
       "         [ 1, 51, 37, 35, 49],\n",
       "         [94,  4, 99, 43, 78],\n",
       "         [22, 74,  1, 11, 44]]]])"
      ]
     },
     "execution_count": 65,
     "metadata": {},
     "output_type": "execute_result"
    }
   ],
   "source": [
    "import numpy as np\n",
    "\n",
    "np.random.seed(0)\n",
    "arr4D = np.array( np.random.randint(1,100, size=(2, 3, 4, 5)), dtype=int)\n",
    "arr4D"
   ]
  },
  {
   "cell_type": "markdown",
   "metadata": {},
   "source": [
    "## Using Python list to form 1D list"
   ]
  },
  {
   "cell_type": "code",
   "execution_count": 71,
   "metadata": {},
   "outputs": [
    {
     "data": {
      "text/plain": [
       "[45, 48, 65, 68, 68]"
      ]
     },
     "execution_count": 71,
     "metadata": {},
     "output_type": "execute_result"
    }
   ],
   "source": [
    "import numpy as np\n",
    "\n",
    "np.random.seed(0)\n",
    "lst1D = [ np.random.randint(1, 101) for i in range(5) ]\n",
    "lst1D"
   ]
  },
  {
   "cell_type": "markdown",
   "metadata": {},
   "source": [
    "### 2D list"
   ]
  },
  {
   "cell_type": "code",
   "execution_count": 90,
   "metadata": {},
   "outputs": [
    {
     "data": {
      "text/plain": [
       "[[45, 48, 65, 68],\n",
       " [68, 10, 84, 22],\n",
       " [37, 88, 71, 89],\n",
       " [89, 13, 59, 66],\n",
       " [40, 88, 47, 89]]"
      ]
     },
     "execution_count": 90,
     "metadata": {},
     "output_type": "execute_result"
    }
   ],
   "source": [
    "import numpy as np\n",
    "\n",
    "lst2D = [ None ] * 5\n",
    "np.random.seed(0)\n",
    "for i in range(5):\n",
    "    lst2D[i] = [ np.random.randint(1, 101) for j in range(4) ]\n",
    "lst2D\n",
    "# print(lst2D)\n",
    "# lst2D[1, 0]"
   ]
  },
  {
   "cell_type": "code",
   "execution_count": 97,
   "metadata": {},
   "outputs": [
    {
     "data": {
      "text/plain": [
       "[68, 10, 84, 22]"
      ]
     },
     "execution_count": 97,
     "metadata": {},
     "output_type": "execute_result"
    }
   ],
   "source": [
    "import numpy as np\n",
    "\n",
    "lst2D = [ None ] * 5\n",
    "np.random.seed(0)\n",
    "for i in range(5):\n",
    "    lst2D[i] = [ np.random.randint(1, 101) for j in range(4) ]\n",
    "lst2D[1][:]"
   ]
  },
  {
   "cell_type": "code",
   "execution_count": 100,
   "metadata": {},
   "outputs": [
    {
     "data": {
      "text/plain": [
       "[68, 10, 84, 22]"
      ]
     },
     "execution_count": 100,
     "metadata": {},
     "output_type": "execute_result"
    }
   ],
   "source": [
    "import numpy as np\n",
    "\n",
    "lst2D = [ None ] * 5\n",
    "np.random.seed(0)\n",
    "for i in range(5):\n",
    "    lst2D[i] = [ np.random.randint(1, 101) for j in range(4) ]\n",
    "lst2D[:][1]"
   ]
  },
  {
   "cell_type": "code",
   "execution_count": 101,
   "metadata": {},
   "outputs": [
    {
     "ename": "TypeError",
     "evalue": "list indices must be integers or slices, not tuple",
     "output_type": "error",
     "traceback": [
      "\u001b[0;31m---------------------------------------------------------------------------\u001b[0m",
      "\u001b[0;31mTypeError\u001b[0m                                 Traceback (most recent call last)",
      "Cell \u001b[0;32mIn[101], line 7\u001b[0m\n\u001b[1;32m      5\u001b[0m \u001b[38;5;28;01mfor\u001b[39;00m i \u001b[38;5;129;01min\u001b[39;00m \u001b[38;5;28mrange\u001b[39m(\u001b[38;5;241m5\u001b[39m):\n\u001b[1;32m      6\u001b[0m     lst2D[i] \u001b[38;5;241m=\u001b[39m [ np\u001b[38;5;241m.\u001b[39mrandom\u001b[38;5;241m.\u001b[39mrandint(\u001b[38;5;241m1\u001b[39m, \u001b[38;5;241m101\u001b[39m) \u001b[38;5;28;01mfor\u001b[39;00m j \u001b[38;5;129;01min\u001b[39;00m \u001b[38;5;28mrange\u001b[39m(\u001b[38;5;241m4\u001b[39m) ]\n\u001b[0;32m----> 7\u001b[0m \u001b[43mlst2D\u001b[49m\u001b[43m[\u001b[49m\u001b[43m:\u001b[49m\u001b[43m,\u001b[49m\u001b[43m \u001b[49m\u001b[38;5;241;43m1\u001b[39;49m\u001b[43m]\u001b[49m\n",
      "\u001b[0;31mTypeError\u001b[0m: list indices must be integers or slices, not tuple"
     ]
    }
   ],
   "source": [
    "import numpy as np\n",
    "\n",
    "lst2D = [ None ] * 5\n",
    "np.random.seed(0)\n",
    "for i in range(5):\n",
    "    lst2D[i] = [ np.random.randint(1, 101) for j in range(4) ]\n",
    "lst2D[:, 1]"
   ]
  },
  {
   "cell_type": "code",
   "execution_count": 102,
   "metadata": {},
   "outputs": [
    {
     "ename": "TypeError",
     "evalue": "list indices must be integers or slices, not tuple",
     "output_type": "error",
     "traceback": [
      "\u001b[0;31m---------------------------------------------------------------------------\u001b[0m",
      "\u001b[0;31mTypeError\u001b[0m                                 Traceback (most recent call last)",
      "Cell \u001b[0;32mIn[102], line 7\u001b[0m\n\u001b[1;32m      5\u001b[0m \u001b[38;5;28;01mfor\u001b[39;00m i \u001b[38;5;129;01min\u001b[39;00m \u001b[38;5;28mrange\u001b[39m(\u001b[38;5;241m5\u001b[39m):\n\u001b[1;32m      6\u001b[0m     lst2D[i] \u001b[38;5;241m=\u001b[39m [ np\u001b[38;5;241m.\u001b[39mrandom\u001b[38;5;241m.\u001b[39mrandint(\u001b[38;5;241m1\u001b[39m, \u001b[38;5;241m101\u001b[39m) \u001b[38;5;28;01mfor\u001b[39;00m j \u001b[38;5;129;01min\u001b[39;00m \u001b[38;5;28mrange\u001b[39m(\u001b[38;5;241m4\u001b[39m) ]\n\u001b[0;32m----> 7\u001b[0m \u001b[43mlst2D\u001b[49m\u001b[43m[\u001b[49m\u001b[38;5;241;43m1\u001b[39;49m\u001b[43m,\u001b[49m\u001b[43m \u001b[49m\u001b[43m:\u001b[49m\u001b[43m]\u001b[49m\n",
      "\u001b[0;31mTypeError\u001b[0m: list indices must be integers or slices, not tuple"
     ]
    }
   ],
   "source": [
    "import numpy as np\n",
    "\n",
    "lst2D = [ None ] * 5\n",
    "np.random.seed(0)\n",
    "for i in range(5):\n",
    "    lst2D[i] = [ np.random.randint(1, 101) for j in range(4) ]\n",
    "lst2D[1, :]"
   ]
  }
 ],
 "metadata": {
  "kernelspec": {
   "display_name": "113_Python",
   "language": "python",
   "name": "python3"
  },
  "language_info": {
   "codemirror_mode": {
    "name": "ipython",
    "version": 3
   },
   "file_extension": ".py",
   "mimetype": "text/x-python",
   "name": "python",
   "nbconvert_exporter": "python",
   "pygments_lexer": "ipython3",
   "version": "3.11.9"
  }
 },
 "nbformat": 4,
 "nbformat_minor": 2
}
