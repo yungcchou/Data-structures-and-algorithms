{
 "cells": [
  {
   "cell_type": "markdown",
   "metadata": {},
   "source": [
    "# Array\n",
    "\n",
    "---\n",
    "#### memo\n",
    "`export CONDA_SHLVL=0`\n",
    "\n",
    "<img src=\"numpy_dtypes.png\">"
   ]
  },
  {
   "cell_type": "code",
   "execution_count": 9,
   "metadata": {},
   "outputs": [
    {
     "name": "stdout",
     "output_type": "stream",
     "text": [
      "The given array is :\n",
      " [1 2 3 4 5]\n",
      "The size of array arr is: 5\n",
      "The memorysize of each element of arr is: 8 bytes\n",
      "The memory size of numpy array arr is: 40 bytes\n"
     ]
    }
   ],
   "source": [
    "import numpy as np\n",
    "\n",
    "arr = np.array([1, 2, 3, 4, 5], dtype=int64)\n",
    "print(\"The given array is :\\n\",arr)\n",
    "print(\"The size of array arr is:\",arr.size)\n",
    "print(\"The memorysize of each element of arr is:\", arr.itemsize,\"bytes\")\n",
    "print(\"The memory size of numpy array arr is:\",arr.itemsize*arr.size,\"bytes\")"
   ]
  }
 ],
 "metadata": {
  "kernelspec": {
   "display_name": "113_Python",
   "language": "python",
   "name": "python3"
  },
  "language_info": {
   "codemirror_mode": {
    "name": "ipython",
    "version": 3
   },
   "file_extension": ".py",
   "mimetype": "text/x-python",
   "name": "python",
   "nbconvert_exporter": "python",
   "pygments_lexer": "ipython3",
   "version": "3.11.9"
  }
 },
 "nbformat": 4,
 "nbformat_minor": 2
}
