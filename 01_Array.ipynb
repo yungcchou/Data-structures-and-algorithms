{
 "cells": [
  {
   "cell_type": "markdown",
   "metadata": {},
   "source": [
    "# Array\n",
    "\n",
    "---\n",
    "#### memo\n",
    "`export CONDA_SHLVL=0`\n",
    "\n",
    "<img src=\"numpy_dtypes.png\">"
   ]
  },
  {
   "cell_type": "code",
   "execution_count": 33,
   "metadata": {},
   "outputs": [
    {
     "name": "stdout",
     "output_type": "stream",
     "text": [
      "The given array is :\n",
      " [1 2 3 4 5]\n",
      "The size of array arr is: 5\n",
      "The memorysize of each element of arr is: 8 bytes\n",
      "The memory size of numpy array arr is: 40 bytes\n",
      "- - - - - - - - - - - - - - - - - - - - - - - - - - - - - - - - - - - - - - - - \n",
      "The given array is :\n",
      " [1 2 3 4 5]\n",
      "The size of array arr is: 5\n",
      "The memorysize of each element of arr is: 8 bytes\n",
      "The memory size of numpy array arr is: 40 bytes\n"
     ]
    }
   ],
   "source": [
    "import numpy as np\n",
    "\n",
    "arr = np.array([1, 2, 3, 4, 5], dtype=int)\n",
    "print(\"The given array is :\\n\",arr)\n",
    "print(\"The size of array arr is:\",arr.size)\n",
    "print(\"The memorysize of each element of arr is:\", arr.itemsize,\"bytes\")\n",
    "print(\"The memory size of numpy array arr is:\",arr.itemsize*arr.size,\"bytes\")\n",
    "print(\"- - \"*20)\n",
    "\n",
    "arr1 = np.array([1, 2, 3, 4, 5], dtype=\"int64\")\n",
    "print(\"The given array is :\\n\",arr1)\n",
    "print(\"The size of array arr is:\",arr1.size)\n",
    "print(\"The memorysize of each element of arr is:\", arr1.itemsize,\"bytes\")\n",
    "print(\"The memory size of numpy array arr is:\",arr1.itemsize*arr1.size,\"bytes\")"
   ]
  },
  {
   "cell_type": "markdown",
   "metadata": {},
   "source": [
    "### 2D Array"
   ]
  },
  {
   "cell_type": "code",
   "execution_count": 61,
   "metadata": {},
   "outputs": [
    {
     "name": "stdout",
     "output_type": "stream",
     "text": [
      "The given 2D array is :\n",
      " [[45 48 65]\n",
      " [68 68 10]\n",
      " [84 22 37]\n",
      " [88 71 89]]\n",
      "The size of 2D array arr2D is: 12\n",
      "The memorysize of each element of arr2D is: 8 bytes\n",
      "The memory size of numpy array arr2D is: 96 bytes\n",
      "[65 10 37 89]\n",
      "[68 68 10]\n"
     ]
    }
   ],
   "source": [
    "import numpy as np\n",
    "\n",
    "np.random.seed(0)\n",
    "arr2D = np.array( np.random.randint(1,100, size=(4,3)), dtype=int)\n",
    "print(\"The given 2D array is :\\n\",arr2D)\n",
    "print( \"The size of 2D array arr2D is:\",arr2D.size)\n",
    "print(\"The memorysize of each element of arr2D is:\", arr2D.itemsize,\"bytes\")\n",
    "print(\"The memory size of numpy array arr2D is:\",arr2D.itemsize*arr2D.size,\"bytes\")\n",
    "print( arr2D[:, 2] )\n",
    "print( arr2D[1, :] )"
   ]
  },
  {
   "cell_type": "markdown",
   "metadata": {},
   "source": [
    "### 3D Array"
   ]
  },
  {
   "cell_type": "code",
   "execution_count": 64,
   "metadata": {},
   "outputs": [
    {
     "data": {
      "text/plain": [
       "array([[[45, 48, 65, 68, 68],\n",
       "        [10, 84, 22, 37, 88],\n",
       "        [71, 89, 89, 13, 59],\n",
       "        [66, 40, 88, 47, 89]],\n",
       "\n",
       "       [[82, 38, 26, 78, 73],\n",
       "        [10, 21, 81, 70, 80],\n",
       "        [48, 65, 83, 89, 50],\n",
       "        [30, 20, 20, 15, 40]],\n",
       "\n",
       "       [[33, 66, 10, 58, 33],\n",
       "        [32, 75, 24, 36, 76],\n",
       "        [56, 29, 35,  1,  1],\n",
       "        [37, 54,  6, 39, 18]]])"
      ]
     },
     "execution_count": 64,
     "metadata": {},
     "output_type": "execute_result"
    }
   ],
   "source": [
    "import numpy as np\n",
    "\n",
    "np.random.seed(0)\n",
    "arr3D = np.array( np.random.randint(1,100, size=(3, 4, 5)), dtype=int)\n",
    "arr3D"
   ]
  },
  {
   "cell_type": "markdown",
   "metadata": {},
   "source": [
    "### 4D Array"
   ]
  },
  {
   "cell_type": "code",
   "execution_count": null,
   "metadata": {},
   "outputs": [],
   "source": [
    "import numpy as np\n",
    "\n",
    "np.random.seed(0)\n",
    "arr4D = np.array( np.random.randint(1,100, size=(2, 3, 4, 5)), dtype=int)\n",
    "arr4D"
   ]
  }
 ],
 "metadata": {
  "kernelspec": {
   "display_name": "113_Python",
   "language": "python",
   "name": "python3"
  },
  "language_info": {
   "codemirror_mode": {
    "name": "ipython",
    "version": 3
   },
   "file_extension": ".py",
   "mimetype": "text/x-python",
   "name": "python",
   "nbconvert_exporter": "python",
   "pygments_lexer": "ipython3",
   "version": "3.11.9"
  }
 },
 "nbformat": 4,
 "nbformat_minor": 2
}
