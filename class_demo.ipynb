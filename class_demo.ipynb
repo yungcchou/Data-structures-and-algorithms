{
 "cells": [
  {
   "cell_type": "code",
   "execution_count": 1,
   "metadata": {},
   "outputs": [
    {
     "name": "stdout",
     "output_type": "stream",
     "text": [
      "成功存入 500 元。\n",
      "王小明 的帳戶餘額為: 1500 元。\n",
      "成功提款 300 元。\n",
      "王小明 的帳戶餘額為: 1200 元。\n"
     ]
    }
   ],
   "source": [
    "class BankAccount:\n",
    "    def __init__(self, account_holder, balance=0):\n",
    "        \"\"\"初始化帳戶持有人和餘額\"\"\"\n",
    "        self.account_holder = account_holder  # 帳戶持有人\n",
    "        self.balance = balance  # 帳戶餘額，預設為0\n",
    "\n",
    "    def deposit(self, amount):\n",
    "        \"\"\"存款\"\"\"\n",
    "        if amount > 0:\n",
    "            self.balance += amount\n",
    "            print(f\"成功存入 {amount} 元。\")\n",
    "        else:\n",
    "            print(\"存款金額必須大於0。\")\n",
    "\n",
    "    def withdraw(self, amount):\n",
    "        \"\"\"提款\"\"\"\n",
    "        if amount > self.balance:\n",
    "            print(\"餘額不足。\")\n",
    "        elif amount <= 0:\n",
    "            print(\"提款金額必須大於0。\")\n",
    "        else:\n",
    "            self.balance -= amount\n",
    "            print(f\"成功提款 {amount} 元。\")\n",
    "\n",
    "    def get_balance(self):\n",
    "        \"\"\"查詢餘額\"\"\"\n",
    "        print(f\"{self.account_holder} 的帳戶餘額為: {self.balance} 元。\")\n",
    "\n",
    "# 創建一個新的銀行帳戶\n",
    "account = BankAccount(\"王小明\", 1000)\n",
    "# 存款\n",
    "account.deposit(500)\n",
    "# 查詢餘額\n",
    "account.get_balance()\n",
    "# 提款\n",
    "account.withdraw(300)\n",
    "# 查詢餘額\n",
    "account.get_balance()"
   ]
  }
 ],
 "metadata": {
  "kernelspec": {
   "display_name": "113_Python",
   "language": "python",
   "name": "python3"
  },
  "language_info": {
   "codemirror_mode": {
    "name": "ipython",
    "version": 3
   },
   "file_extension": ".py",
   "mimetype": "text/x-python",
   "name": "python",
   "nbconvert_exporter": "python",
   "pygments_lexer": "ipython3",
   "version": "3.11.10"
  }
 },
 "nbformat": 4,
 "nbformat_minor": 2
}
