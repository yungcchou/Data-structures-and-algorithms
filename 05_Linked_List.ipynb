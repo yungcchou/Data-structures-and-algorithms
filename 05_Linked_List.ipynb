{
 "cells": [
  {
   "cell_type": "markdown",
   "metadata": {},
   "source": [
    "# Linked List\n",
    "\n",
    "## Create Node class\n",
    "### Attributes\n",
    "- **`value`**: used to store the node value\n",
    "- **`next`**: point to next node object\n",
    "\n",
    "### Functions/Methods\n",
    "- **`__init__`**: node constructer \n",
    "- **`show()`**: show the value of the node"
   ]
  },
  {
   "cell_type": "code",
   "execution_count": 6,
   "metadata": {},
   "outputs": [
    {
     "name": "stdout",
     "output_type": "stream",
     "text": [
      "node1's value: 31\n",
      "node2's value: 22\n"
     ]
    }
   ],
   "source": [
    "class Node:\n",
    "    def __init__(self, value): # constructor\n",
    "        self.value = value\n",
    "        self.next = None\n",
    "    \n",
    "    def show(self): # method to show the value of the node\n",
    "        return self.value\n",
    "\n",
    "node1 = Node(31) # create a node with value 1\n",
    "node1.next = Node(22) # create a new node and assign it to the next attribute of the first node\n",
    "print( f\"node1's value: {node1.show() }\" ) # show the value of the node\n",
    "print( f\"node2's value: {node1.next.show() }\" ) # use node1.next to access the next node"
   ]
  },
  {
   "cell_type": "markdown",
   "metadata": {},
   "source": [
    "## use Linked_List class to management the data nodes\n",
    "### Attributes\n",
    "- **`value`**: used to store the node value\n",
    "- **`next`**: point to next node object\n",
    "\n",
    "### Functions/Methods\n",
    "- **`append( val )`**: add new node data to the end of linked list\n",
    "- **`getSize( )`**: get the total elements in the linked list\n",
    "- **`showAll( )`**: show the elements in the list from the first one to the last one, the symbol `->` is stayed between two node elements\n",
    "- **`insert( idx, val )`**: to insert new node after `idx`’s node, if success return True, otherwise return False\n",
    "- **`index( val )`**: return the index of the first found node which data value equals to input `val`, if not found then return `-1`\n",
    "- **`delete( val )`**: remove the first found node value equal to the input `val`, if there has no node data value equal to val then return `-1`\n",
    "- **`search( val )`**: return all of the `val` located node indexes in list. If not found, return `-1`"
   ]
  },
  {
   "cell_type": "code",
   "execution_count": 11,
   "metadata": {},
   "outputs": [
    {
     "name": "stdout",
     "output_type": "stream",
     "text": [
      "31 -> 22 -> END\n"
     ]
    }
   ],
   "source": [
    "class Node:\n",
    "    def __init__(self, value): # constructor\n",
    "        self.value = value\n",
    "        self.next = None\n",
    "    \n",
    "    def show(self): # method to show the value of the node\n",
    "        return self.value\n",
    "\n",
    "class Linked_List:\n",
    "    def __init__(self):\n",
    "        self.head = None # the linked list is empty at the beginning\n",
    "\n",
    "    def append(self, value): # method to add a new node to the linked list\n",
    "        if self.head is None: # if the linked list is empty\n",
    "            self.head = Node(value) # create a new node and assign it to the head\n",
    "            return\n",
    "        current = self.head # start from the head\n",
    "        while current.next: # iterate through the linked list\n",
    "            current = current.next\n",
    "        current.next = Node(value) # add a new node to the end of the linked list\n",
    "\n",
    "    def showAll(self): # method to show the linked list\n",
    "        current = self.head\n",
    "        while current: # iterate through the linked list\n",
    "            if current.next is None:\n",
    "                print(current.show(), end=' -> END')\n",
    "            else:\n",
    "                print(current.show(), end=' -> ') # show the value of the node\n",
    "            current = current.next\n",
    "        print()\n",
    "\n",
    "if __name__ == '__main__':\n",
    "    linked_list = Linked_List() # create a linked list\n",
    "    linked_list.append(31) # add a new node to the linked list\n",
    "    linked_list.append(22) # add a new node to the linked list\n",
    "    linked_list.showAll() # show the linked list"
   ]
  },
  {
   "cell_type": "markdown",
   "metadata": {},
   "source": [
    "在 Linked_List 類別中加入下列函式 \n",
    "- **`insert(idx, val)`**\n",
    "- **`search(val)`**\n",
    "- **`getSize()`**\n",
    "- **`delete(val)`**\n",
    "- **`index(val)`** "
   ]
  },
  {
   "cell_type": "code",
   "execution_count": null,
   "metadata": {},
   "outputs": [],
   "source": [
    "class Node:\n",
    "    def __init__(self, value): # constructor\n",
    "        self.value = value\n",
    "        self.next = None\n",
    "    \n",
    "    def show(self): # method to show the value of the node\n",
    "        return self.value\n",
    "\n",
    "class Linked_List:\n",
    "    def __init__(self):\n",
    "        self.head = None # the linked list is empty at the beginning\n",
    "\n",
    "    def append(self, value): # method to add a new node to the linked list\n",
    "        if self.head is None: # if the linked list is empty\n",
    "            self.head = Node(value) # create a new node and assign it to the head\n",
    "            return\n",
    "        current = self.head # start from the head\n",
    "        while current.next: # iterate through the linked list\n",
    "            current = current.next\n",
    "        current.next = Node(value) # add a new node to the end of the linked list\n",
    "\n",
    "    def showAll(self): # method to show the linked list\n",
    "        current = self.head\n",
    "        while current: # iterate through the linked list\n",
    "            if current.next is None:\n",
    "                print(current.show(), end=' -> END')\n",
    "            else:\n",
    "                print(current.show(), end=' -> ') # show the value of the node\n",
    "            current = current.next\n",
    "        print()\n",
    "\n",
    "if __name__ == '__main__':\n",
    "    linked_list = Linked_List() # create a linked list\n",
    "    linked_list.append(31) # add a new node to the linked list\n",
    "    linked_list.append(22) # add a new node to the linked list\n",
    "    linked_list.showAll() # show the linked list"
   ]
  }
 ],
 "metadata": {
  "kernelspec": {
   "display_name": "113_Python",
   "language": "python",
   "name": "python3"
  },
  "language_info": {
   "codemirror_mode": {
    "name": "ipython",
    "version": 3
   },
   "file_extension": ".py",
   "mimetype": "text/x-python",
   "name": "python",
   "nbconvert_exporter": "python",
   "pygments_lexer": "ipython3",
   "version": "3.11.5"
  }
 },
 "nbformat": 4,
 "nbformat_minor": 2
}
