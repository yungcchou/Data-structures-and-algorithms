{
 "cells": [
  {
   "cell_type": "markdown",
   "metadata": {},
   "source": [
    "# Queue\n",
    "\n",
    "- 在資料結構與演算法中， **佇列 (Queue)** 是一種線性資料結構，遵循 **先進先出 (FIFO, First-In-First-Out)** 的原則。\n",
    "- 在佇列中，第一個加入的元素將會是第一個被移除的，這就像排隊一樣，先到的人會先被服務。\n",
    "\n",
    "### 佇列的特點\n",
    "- **FIFO順序**：元素從尾端（後端）加入，並從前端移除。\n",
    "- **基本操作**：\n",
    "  - **Enqueue**：將元素加入佇列的尾端。\n",
    "  - **Dequeue**：從佇列的前端移除元素。\n",
    "  - **Peek/Front**：查看佇列的前端元素，但不移除。\n",
    "  - **IsEmpty**：檢查佇列是否為空。\n",
    "  - **Size**：返回佇列中元素的數量。\n",
    "\n",
    "### 佇列的應用\n",
    "佇列廣泛應用於以下場合：\n",
    "1. **任務排程**：例如在操作系統中管理進程。\n",
    "2. **資料緩衝**：處理數據流，例如I/O緩衝區。\n",
    "3. **廣度優先搜尋 (BFS)**：在圖形遍歷中應用。\n",
    "4. **列印緩衝**：管理列印文件的順序。"
   ]
  },
  {
   "cell_type": "code",
   "execution_count": 1,
   "metadata": {},
   "outputs": [],
   "source": [
    "class Queue:\n",
    "    def __init__(self):\n",
    "        self.queue = []\n",
    "    def enqueue(self, item):\n",
    "        self.queue.append(item)\n",
    "    def dequeue(self):\n",
    "        return self.queue.pop(0)\n",
    "    def is_empty(self):\n",
    "        return len(self.queue) == 0\n",
    "    def size(self):\n",
    "        return len(self.queue)"
   ]
  }
 ],
 "metadata": {
  "kernelspec": {
   "display_name": "113_Python",
   "language": "python",
   "name": "python3"
  },
  "language_info": {
   "codemirror_mode": {
    "name": "ipython",
    "version": 3
   },
   "file_extension": ".py",
   "mimetype": "text/x-python",
   "name": "python",
   "nbconvert_exporter": "python",
   "pygments_lexer": "ipython3",
   "version": "3.11.9"
  }
 },
 "nbformat": 4,
 "nbformat_minor": 2
}
