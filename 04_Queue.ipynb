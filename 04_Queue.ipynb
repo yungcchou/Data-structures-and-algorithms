{
 "cells": [
  {
   "cell_type": "markdown",
   "metadata": {},
   "source": [
    "# Queue\n",
    "## Exercise 1: \n",
    "\n",
    "Create a `Queue` class with the following methods and implement a menu-driven program to interact with the queue.\n",
    "\n",
    "#### Requirements:\n",
    "1. Define a `Queue` class with the following methods:\n",
    "   - `enqueue(n)`: Adds a number `n` to the queue.\n",
    "   - `dequeue()`: Removes and returns a number from the front of the queue. If the queue is empty, display a message indicating this.\n",
    "   - `is_empty()`: Checks if the queue is empty and returns `True` or `False`.\n",
    "   - `size()`: Returns the number of items currently in the queue.\n",
    "\n",
    "2. Implement a menu with the following options:\n",
    "   - **Option 0**: Exit the program.\n",
    "   - **Option 1**: Add a number to the queue.\n",
    "   - **Option 2**: Remove a number from the queue.\n",
    "   - **Option 3**: Check if the queue is empty.\n",
    "   - **Option 4**: Display the number of items in the queue."
   ]
  },
  {
   "cell_type": "code",
   "execution_count": 1,
   "metadata": {},
   "outputs": [],
   "source": [
    "class Queue:\n",
    "    def __init__(self):\n",
    "        self.queue = []\n",
    "    def enqueue(self, item):\n",
    "        self.queue.append(item)\n",
    "    def dequeue(self):\n",
    "        return self.queue.pop(0)\n",
    "    def is_empty(self):\n",
    "        return len(self.queue) == 0\n",
    "    def size(self):\n",
    "        return len(self.queue)\n",
    "\n",
    "def menu():\n",
    "    print(\"1. Enqueue\")\n",
    "    print(\"2. Dequeue\")\n",
    "    print(\"3. Is Empty\")\n",
    "    print(\"4. Size\")\n",
    "    print(\"0. Exit\")\n",
    "\n",
    "if __name__ == \"__main__\":\n",
    "    queue = Queue()\n",
    "    while True:\n",
    "        menu()\n",
    "        choice = int(input(\"Enter choice: \"))\n",
    "        if choice == 1:\n",
    "            item = input(\"Enter item: \")\n",
    "            queue.enqueue(item)\n",
    "        elif choice == 2:\n",
    "            if queue.is_empty():\n",
    "                print(\"Queue is empty\")\n",
    "            else:\n",
    "                print(\"Dequeued item: \", queue.dequeue())\n",
    "        elif choice == 3:\n",
    "            if queue.is_empty():\n",
    "                print(\"Queue is empty\")\n",
    "            else:\n",
    "                print(\"Queue is not empty\")\n",
    "        elif choice == 4:\n",
    "            print(\"Size of queue: \", queue.size())\n",
    "        elif choice == 0:\n",
    "            break\n",
    "        else:\n",
    "            print(\"Invalid choice\")\n",
    "        print()\n",
    "    "
   ]
  }
 ],
 "metadata": {
  "kernelspec": {
   "display_name": "113_Python",
   "language": "python",
   "name": "python3"
  },
  "language_info": {
   "codemirror_mode": {
    "name": "ipython",
    "version": 3
   },
   "file_extension": ".py",
   "mimetype": "text/x-python",
   "name": "python",
   "nbconvert_exporter": "python",
   "pygments_lexer": "ipython3",
   "version": "3.11.9"
  }
 },
 "nbformat": 4,
 "nbformat_minor": 2
}
