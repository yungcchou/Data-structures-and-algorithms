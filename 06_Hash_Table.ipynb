{
 "cells": [
  {
   "cell_type": "code",
   "execution_count": null,
   "metadata": {},
   "outputs": [
    {
     "name": "stdout",
     "output_type": "stream",
     "text": [
      "29\n",
      "[None, None, None, None, None, None, None, None, None, None, None, None, None, None, None, None, None, None, None, None, None, None, None, None, None, None, None, None, None]\n",
      "Added: 9876543 -> 13\n",
      "Added: 123456 -> 3\n",
      "Added: 999999 -> 21\n",
      "Added: 876543 -> 18\n",
      "Added: 1122334 -> 5\n",
      "Added: 9847654 -> 8\n",
      "Added: 4567899 -> 22\n",
      "Added: 55525325 -> 11\n",
      "Added: 5432101 -> 24\n",
      "Added: 4542010 -> 1\n",
      "0\n",
      "[None, 4542010, None, 123456, None, 1122334, None, None, 9847654, None, None, 55525325, None, 9876543, None, None, None, None, 876543, None, None, 999999, 4567899, None, 5432101, None, None, None, None]\n"
     ]
    }
   ],
   "source": [
    "class HashTable:\n",
    "    def __init__(self):\n",
    "        self.__size = 29\n",
    "        self.data = [None] * self.__size\n",
    "        self.collision_count = 0\n",
    "        \n",
    "    def put(self, item):\n",
    "        idx = item % self.__size\n",
    "        if self.data[ idx ] != None:\n",
    "            print(f\"Collision: {item} -> {self.data[ idx ]}\")\n",
    "            self.collision_count += 1 \n",
    "        else:\n",
    "            self.data[ idx ] = item\n",
    "            print(f\"Added: {item} -> {idx}\")\n",
    "            \n",
    "    def getCollisionCount(self):\n",
    "        return self.collision_count\n",
    "    \n",
    "    def get(self, item):\n",
    "        idx = item % self.__size\n",
    "        return self.data[ idx ]\n",
    "\n",
    "    def showAll( self ):\n",
    "        for item in self.data:\n",
    "            print( item )\n",
    "\n",
    "inputData = [9876543, 123456, 999999, 876543, 1122334, 9847654, 4567899, 55525325, 5432101, 4542010]\n",
    "ht = HashTable()\n",
    "print( len(ht.data))\n",
    "print( ht.data )\n",
    "# ht.showAll()\n",
    "for item in data:\n",
    "    ht.put( item )\n",
    "print( ht.getCollisionCount())\n",
    "print( ht.data)\n",
    "# ht.showAll()\n"
   ]
  }
 ],
 "metadata": {
  "kernelspec": {
   "display_name": "113_Python",
   "language": "python",
   "name": "python3"
  },
  "language_info": {
   "codemirror_mode": {
    "name": "ipython",
    "version": 3
   },
   "file_extension": ".py",
   "mimetype": "text/x-python",
   "name": "python",
   "nbconvert_exporter": "python",
   "pygments_lexer": "ipython3",
   "version": "3.11.9"
  }
 },
 "nbformat": 4,
 "nbformat_minor": 2
}
